{
 "cells": [
  {
   "cell_type": "markdown",
   "metadata": {},
   "source": [
    "## 내장 함수 문제"
   ]
  },
  {
   "cell_type": "markdown",
   "metadata": {},
   "source": [
    "### 1. 절대값 함수 사용하기\n",
    "```python\n",
    "# 입력: -5\n",
    "# 출력: 5\n",
    "```"
   ]
  },
  {
   "cell_type": "code",
   "execution_count": 287,
   "metadata": {},
   "outputs": [
    {
     "data": {
      "text/plain": [
       "5"
      ]
     },
     "execution_count": 287,
     "metadata": {},
     "output_type": "execute_result"
    }
   ],
   "source": [
    "abs(-5) ##"
   ]
  },
  {
   "cell_type": "markdown",
   "metadata": {},
   "source": [
    "### 2. all 함수로 리스트 검사하기\n",
    "```python\n",
    "numbers = [True, True, False]\n",
    "# 출력: False\n",
    "```\n",
    "all은 받은 값들이 모두 참 일때만 True 0또는 false가 하나라도 끼여있으면 false"
   ]
  },
  {
   "cell_type": "code",
   "execution_count": 288,
   "metadata": {},
   "outputs": [
    {
     "name": "stdout",
     "output_type": "stream",
     "text": [
      "False\n",
      "True\n",
      "False\n"
     ]
    }
   ],
   "source": [
    "numbers = [True, True, False]   \n",
    "print(all(numbers))\n",
    "## test\n",
    "numbers1 = [1,2,3,4,5,6,7,8,'test',1<2,2+3==5]\n",
    "print(all(numbers1))\n",
    "numbers2 = [0,1,2,3,4,5,6,7,8,'test',1<2,2+3==5]\n",
    "print(all(numbers2))"
   ]
  },
  {
   "cell_type": "markdown",
   "metadata": {},
   "source": [
    "### 3. any 함수로 값 존재 여부 확인\n",
    "```python\n",
    "numbers = [0, 0, 1]\n",
    "# 출력: True\n",
    "```"
   ]
  },
  {
   "cell_type": "code",
   "execution_count": 289,
   "metadata": {},
   "outputs": [
    {
     "name": "stdout",
     "output_type": "stream",
     "text": [
      "True\n",
      "False\n",
      "True\n",
      "False\n",
      "True\n"
     ]
    }
   ],
   "source": [
    "numbers = [0, 0, 1]\n",
    "print(any(numbers))\n",
    "## test\n",
    "numbers1 = [0,False, 1>2,10==9]\n",
    "print(any(numbers1))\n",
    "numbers2 = [0,False, True]\n",
    "print(any(numbers2))\n",
    "numbers3 = [0,False, None]\n",
    "print(any(numbers3))\n",
    "numbers4 = [0,False, \"sadasd\"]\n",
    "print(any(numbers4))"
   ]
  },
  {
   "cell_type": "markdown",
   "metadata": {},
   "source": [
    "### 4. enumerate 함수로 인덱스와 값 출력\n",
    "```python\n",
    "words = [\"a\", \"b\", \"c\"]\n",
    "# 출력: [(0, \"a\"), (1, \"b\"), (2, \"c\")]\n",
    "```"
   ]
  },
  {
   "cell_type": "code",
   "execution_count": 290,
   "metadata": {},
   "outputs": [
    {
     "name": "stdout",
     "output_type": "stream",
     "text": [
      "[(0, 'a'), (1, 'b'), (2, 'c')]\n"
     ]
    }
   ],
   "source": [
    "words = [\"a\",\"b\",\"c\"]   ##\n",
    "answer = []\n",
    "for index,word in enumerate(words):\n",
    "    answer.append((index,word))\n",
    "print(answer)"
   ]
  },
  {
   "cell_type": "markdown",
   "metadata": {},
   "source": [
    "### 5. filter 함수로 짝수 필터링\n",
    "```python\n",
    "numbers = [1, 2, 3, 4, 5]\n",
    "# 출력: [2, 4]\n",
    "```"
   ]
  },
  {
   "cell_type": "code",
   "execution_count": 291,
   "metadata": {},
   "outputs": [
    {
     "name": "stdout",
     "output_type": "stream",
     "text": [
      "[2, 4]\n"
     ]
    }
   ],
   "source": [
    "numbers = [1,2,3,4,5]\n",
    "even_numbers = list(filter(lambda x : x%2==0,numbers))\n",
    "print(even_numbers)"
   ]
  },
  {
   "cell_type": "markdown",
   "metadata": {},
   "source": [
    "### 6. len 함수로 리스트 길이 확인\n",
    "```python\n",
    "numbers = [1, 2, 3]\n",
    "# 출력: 3\n",
    "```"
   ]
  },
  {
   "cell_type": "code",
   "execution_count": 292,
   "metadata": {},
   "outputs": [
    {
     "name": "stdout",
     "output_type": "stream",
     "text": [
      "3\n"
     ]
    }
   ],
   "source": [
    "numbers = [1, 2, 3]\n",
    "print(len(numbers))"
   ]
  },
  {
   "cell_type": "markdown",
   "metadata": {},
   "source": [
    "### 7. max 함수로 최대값 찾기\n",
    "```python\n",
    "numbers = [10, 20, 30]\n",
    "# 출력: 30\n",
    "```"
   ]
  },
  {
   "cell_type": "code",
   "execution_count": 293,
   "metadata": {},
   "outputs": [
    {
     "name": "stdout",
     "output_type": "stream",
     "text": [
      "30\n"
     ]
    }
   ],
   "source": [
    "numbers = [10,20,30]\n",
    "print(max(numbers))"
   ]
  },
  {
   "cell_type": "markdown",
   "metadata": {},
   "source": [
    "### 8. min 함수로 최소값 찾기\n",
    "```python\n",
    "numbers = [10, 20, 30]\n",
    "# 출력: 10\n",
    "```"
   ]
  },
  {
   "cell_type": "code",
   "execution_count": 294,
   "metadata": {},
   "outputs": [
    {
     "name": "stdout",
     "output_type": "stream",
     "text": [
      "10\n"
     ]
    }
   ],
   "source": [
    "numbers = [10,20,30]\n",
    "print(min(numbers))"
   ]
  },
  {
   "cell_type": "markdown",
   "metadata": {},
   "source": [
    "### 9. map 함수로 리스트 요소 제곱\n",
    "```python\n",
    "numbers = [1, 2, 3]\n",
    "# 출력: [1, 4, 9]\n",
    "```"
   ]
  },
  {
   "cell_type": "code",
   "execution_count": 295,
   "metadata": {},
   "outputs": [
    {
     "name": "stdout",
     "output_type": "stream",
     "text": [
      "[1, 4, 9]\n"
     ]
    }
   ],
   "source": [
    "numbers = [1, 2, 3]\n",
    "square_numbers = list(map(lambda x: x**2,numbers))\n",
    "print(square_numbers)"
   ]
  },
  {
   "cell_type": "markdown",
   "metadata": {},
   "source": [
    "### 10. pow 함수로 제곱 계산 ##\n",
    "```python\n",
    "# 입력: 2, 3\n",
    "# 출력: 8\n",
    "```"
   ]
  },
  {
   "cell_type": "code",
   "execution_count": 296,
   "metadata": {},
   "outputs": [
    {
     "name": "stdout",
     "output_type": "stream",
     "text": [
      "[1, 4, 9]\n"
     ]
    }
   ],
   "source": [
    "numbers = [1, 2, 3]     ##\n",
    "square_numbers = list(map(lambda x: pow(x,2),numbers))\n",
    "print(square_numbers)"
   ]
  },
  {
   "cell_type": "markdown",
   "metadata": {},
   "source": [
    "### 11. range 함수로 숫자 생성\n",
    "```python\n",
    "# 입력: range(5) revarse\n",
    "# 출력: [0, 1, 2, 3, 4]\n",
    "```\n",
    "\n"
   ]
  },
  {
   "cell_type": "code",
   "execution_count": 297,
   "metadata": {},
   "outputs": [
    {
     "name": "stdout",
     "output_type": "stream",
     "text": [
      "[0, 1, 2, 3, 4]\n",
      "range(0, 5)\n",
      "range(0, 5)\n",
      "range(0, 5)\n",
      "range(0, 5, 2)\n",
      "[2, 4, 8, 16, 32, 64, 128, 256]\n"
     ]
    }
   ],
   "source": [
    "print(list(range(5)))\n",
    "print(range(5))\n",
    "print(range(0,5))\n",
    "print(range(0,5,1))\n",
    "print(range(0,5,2))\n",
    "#아래 같이 표현하고 숫자들을 만들어도 됨.\n",
    "a,r,n = 1,2,10\n",
    "nums = []\n",
    "num = a\n",
    "for _ in range(1,n-1):\n",
    "    num=num*r\n",
    "    nums.append(num)\n",
    "print(nums)"
   ]
  },
  {
   "cell_type": "markdown",
   "metadata": {},
   "source": [
    "### 12. reversed 함수로 리스트 뒤집기\n",
    "```python\n",
    "numbers = [1, 2, 3]\n",
    "# 출력: [3, 2, 1]\n",
    "```"
   ]
  },
  {
   "cell_type": "code",
   "execution_count": 298,
   "metadata": {},
   "outputs": [
    {
     "name": "stdout",
     "output_type": "stream",
     "text": [
      "[3, 2, 1]\n",
      "['hello', 3, 2, True, 1]\n",
      "('hello', 3, 2, True, 1)\n",
      "[(4, 'World'), (2, False), (True, 2), ('hello', 1)]\n"
     ]
    }
   ],
   "source": [
    "numbers = [1, 2, 3]\n",
    "print(list(reversed(numbers)))\n",
    "numbers = [1,True, 2, 3,\"hello\"]\n",
    "print(list(reversed(numbers)))\n",
    "numbers = (1,True, 2, 3,\"hello\")\n",
    "print(tuple(reversed(numbers)))\n",
    "numbers = {\"hello\":1, True:2, 2:False,4:\"World\"}\n",
    "print(list(reversed(numbers.items())))"
   ]
  },
  {
   "cell_type": "markdown",
   "metadata": {},
   "source": [
    "### 13. round 함수로 소수점 반올림##\n",
    "```python\n",
    "# 입력: 3.14159, 2\n",
    "# 출력: 3.14\n",
    "```\n",
    "반올림은 round() 함수, 올림은 ceil() 함수, 내림은 floor() \n",
    "올림과 내림은 math 모듈듈에 내장되어 있음"
   ]
  },
  {
   "cell_type": "code",
   "execution_count": 299,
   "metadata": {},
   "outputs": [
    {
     "name": "stdout",
     "output_type": "stream",
     "text": [
      "3.14\n",
      "1240125129600000.0\n",
      "4\n",
      "1240125129593469\n",
      "3\n",
      "1240125129593468\n"
     ]
    }
   ],
   "source": [
    "from math import ceil   ##\n",
    "from math import floor\n",
    "\n",
    "Circumference = 3.141596\n",
    "\n",
    "number = 1240125129593468.7675656\n",
    "print(round(Circumference,2))\n",
    "print(round(number,-5))\n",
    "print(ceil(Circumference))\n",
    "print(ceil(number))\n",
    "print(floor(Circumference))\n",
    "print(floor(number))\n"
   ]
  },
  {
   "cell_type": "markdown",
   "metadata": {},
   "source": [
    "### 14. sorted 함수로 정렬하기\n",
    "```python\n",
    "numbers = [3, 1, 2]\n",
    "# 출력: [1, 2, 3]\n",
    "```"
   ]
  },
  {
   "cell_type": "code",
   "execution_count": 300,
   "metadata": {},
   "outputs": [
    {
     "name": "stdout",
     "output_type": "stream",
     "text": [
      "[3, 2, 1]\n",
      "[1, 2, 3]\n"
     ]
    }
   ],
   "source": [
    "numbers = [3, 1, 2]\n",
    "print(sorted(numbers,reverse=True))\n",
    "print(sorted(numbers))"
   ]
  },
  {
   "cell_type": "markdown",
   "metadata": {},
   "source": [
    "### 15. sum 함수로 리스트 합 계산\n",
    "```python\n",
    "numbers = [1, 2, 3]\n",
    "# 출력: 6\n",
    "```"
   ]
  },
  {
   "cell_type": "code",
   "execution_count": 301,
   "metadata": {},
   "outputs": [
    {
     "name": "stdout",
     "output_type": "stream",
     "text": [
      "6\n"
     ]
    }
   ],
   "source": [
    "numbers = [1,2,3]\n",
    "print(sum(numbers))"
   ]
  },
  {
   "cell_type": "markdown",
   "metadata": {},
   "source": [
    "### 16. type 함수로 데이터 타입 확인\n",
    "```python\n",
    "value = 42\n",
    "# 출력: <class 'int'>\n",
    "```"
   ]
  },
  {
   "cell_type": "code",
   "execution_count": 302,
   "metadata": {},
   "outputs": [
    {
     "name": "stdout",
     "output_type": "stream",
     "text": [
      "<class 'int'>\n",
      "<class 'bool'>\n",
      "<class 'list'>\n",
      "<class 'dict'>\n",
      "<class 'tuple'>\n",
      "<class 'float'>\n",
      "<class 'str'>\n",
      "<class 'str'>\n",
      "<class 'str'>\n",
      "<class 'str'>\n",
      "<class 'map'>\n",
      "<class 'filter'>\n",
      "<class 'type'>\n"
     ]
    }
   ],
   "source": [
    "value = 42\n",
    "print(type(value))\n",
    "value = True\n",
    "print(type(value))\n",
    "value = []\n",
    "print(type(value))\n",
    "value = {}\n",
    "print(type(value))\n",
    "value = ()\n",
    "print(type(value))\n",
    "value = 124.124\n",
    "print(type(value))\n",
    "value = \"sdfadf\"\n",
    "print(type(value))\n",
    "value = \"s\"\n",
    "print(type(value))\n",
    "value = 's'\n",
    "print(type(value))\n",
    "value = 's14515'\n",
    "print(type(value))\n",
    "value = map(lambda x: x,[1,2,3])\n",
    "print(type(value))\n",
    "value = filter(lambda x: x%2==0,[1,2,3,4,5])\n",
    "print(type(value))\n",
    "print(type(type(value)))"
   ]
  },
  {
   "cell_type": "markdown",
   "metadata": {},
   "source": [
    "### 17. zip 함수로 리스트 병합     \n",
    "```python\n",
    "list1 = [1, 2, 3]\n",
    "list2 = [\"a\", \"b\", \"c\"]\n",
    "# 출력: [(1, \"a\"), (2, \"b\"), (3, \"c\")]\n",
    "```"
   ]
  },
  {
   "cell_type": "code",
   "execution_count": 703,
   "metadata": {},
   "outputs": [
    {
     "name": "stdout",
     "output_type": "stream",
     "text": [
      "[]\n",
      "(1, 2, 3) ('a', 'b', 'c') (True, False, None) {'A': 12, 'B': 23, 'c': 25}\n",
      "{1: 'e', 2: 'b', 3: 'c'}\n"
     ]
    }
   ],
   "source": [
    "list1 = [1, 2, 3]\n",
    "list2 = [\"a\", \"b\", \"c\"]\n",
    "tuple1 = (True,False,None)\n",
    "dict1 = {'A':12,'B':23,'c':25}\n",
    "zip1 = zip(list1,list2,tuple1,dict1.items())\n",
    "l1,l2,t1,d1 = zip(*zip1)\n",
    "print(list(zip1))\n",
    "print(l1,l2,t1,dict(d1))\n",
    "list1 = [1,1,1, 2, 3]\n",
    "list2 = [\"a\",\"d\",\"e\", \"b\", \"c\"]\n",
    "print(dict(zip(list1,list2)))"
   ]
  },
  {
   "cell_type": "markdown",
   "metadata": {},
   "source": [
    "### 18. eval 함수로 문자열 표현식 계산\n",
    "```python\n",
    "expression = \"2 + 3 * 4\"\n",
    "# 출력: 14\n",
    "```"
   ]
  },
  {
   "cell_type": "code",
   "execution_count": 704,
   "metadata": {},
   "outputs": [
    {
     "name": "stdout",
     "output_type": "stream",
     "text": [
      "14\n",
      "5\n",
      "14\n",
      "35\n"
     ]
    }
   ],
   "source": [
    "expression = \"2 + 3 * 4\"        ##\n",
    "print(eval(expression))\n",
    "x = lambda x : pow(x,3)\n",
    "y = lambda y : y*2\n",
    "values = {1:2,2:3,3:4}\n",
    "for a,b in values.items():\n",
    "    expression = f\"{x(a)}+{y(b)}\"\n",
    "    print(eval(expression))"
   ]
  },
  {
   "cell_type": "markdown",
   "metadata": {},
   "source": [
    "### 19. chr 함수로 아스키 코드 문자 반환\n",
    "```python\n",
    "# 입력: 97\n",
    "# 출력: 'a'\n",
    "```"
   ]
  },
  {
   "cell_type": "code",
   "execution_count": 705,
   "metadata": {},
   "outputs": [
    {
     "name": "stdout",
     "output_type": "stream",
     "text": [
      "a\n",
      "a\n",
      "b\n",
      "c\n",
      "d\n",
      "e\n",
      "f\n",
      "g\n",
      "h\n",
      "i\n",
      "j\n"
     ]
    }
   ],
   "source": [
    "print(chr(97))\n",
    "for i in range(10):\n",
    "    a = chr(97+i)\n",
    "    print(a)"
   ]
  },
  {
   "cell_type": "markdown",
   "metadata": {},
   "source": [
    "### 20. ord 함수로 문자 아스키 코드 반환\n",
    "```python\n",
    "# 입력: 'a'\n",
    "# 출력: 97\n",
    "```"
   ]
  },
  {
   "cell_type": "code",
   "execution_count": 706,
   "metadata": {},
   "outputs": [
    {
     "name": "stdout",
     "output_type": "stream",
     "text": [
      "97\n"
     ]
    }
   ],
   "source": [
    "print(ord('a'))"
   ]
  },
  {
   "cell_type": "markdown",
   "metadata": {},
   "source": [
    "## 정규 표현식 문제"
   ]
  },
  {
   "cell_type": "markdown",
   "metadata": {},
   "source": [
    "### 1. 문자열에서 모든 이메일 주소 찾기\n",
    "```python\n",
    "text = \"Contact us at info@example.com or support@domain.org\"\n",
    "# 출력: ['info@example.com', 'support@domain.org']\n",
    "```"
   ]
  },
  {
   "cell_type": "code",
   "execution_count": 707,
   "metadata": {},
   "outputs": [
    {
     "name": "stdout",
     "output_type": "stream",
     "text": [
      "['info@example.com', 'support@domain.org']\n",
      "['info@example.com', 'support@domain.org']\n"
     ]
    }
   ],
   "source": [
    "import re   ##\n",
    "text = \"Contact us at info@example.com or support@domain.org\"\n",
    "email_pattern = r\"\\b[A-Za-z0-9._%+-]+@[A-Za-z0-9.-]+\\.[A-Z|a-z]{2,}\\b\"\n",
    "email_pattern2 = r\"\\b\\w+@\\w+\\.\\w{2,}\\b\"\n",
    "email_match = re.findall(email_pattern,text)\n",
    "email_match2 = re.findall(email_pattern2,text)\n",
    "print(email_match)\n",
    "print(email_match2)\n"
   ]
  },
  {
   "cell_type": "markdown",
   "metadata": {},
   "source": [
    "### 2. 특정 패턴으로 시작하는 단어 추출\n",
    "```python\n",
    "text = \"apple banana cherry date\"\n",
    "pattern = r\"^a\"\n",
    "# 출력: ['apple']\n",
    "```"
   ]
  },
  {
   "cell_type": "code",
   "execution_count": 708,
   "metadata": {},
   "outputs": [
    {
     "name": "stdout",
     "output_type": "stream",
     "text": [
      "apple\n"
     ]
    }
   ],
   "source": [
    "text = \"apple banana cherry date\"\n",
    "pattern = r\"^a\\w+\\b\"\n",
    "print(re.search(pattern,text).group())"
   ]
  },
  {
   "cell_type": "markdown",
   "metadata": {},
   "source": [
    "### 3. 전화번호 형식 검사\n",
    "```python\n",
    "phone = \"123-456-7890\"\n",
    "# 출력: True (형식이 올바른 경우)\n",
    "```"
   ]
  },
  {
   "cell_type": "code",
   "execution_count": 709,
   "metadata": {},
   "outputs": [
    {
     "name": "stdout",
     "output_type": "stream",
     "text": [
      "True\n"
     ]
    }
   ],
   "source": [
    "phone = \"123-456-7890\"  ##\n",
    "phone_number_pattern = r\"\\d{2,3}-\\d{3,4}-\\d{4}\"\n",
    "if re.search(phone_number_pattern,phone):\n",
    "    print(True)\n",
    "else:\n",
    "    print(False)"
   ]
  },
  {
   "cell_type": "markdown",
   "metadata": {},
   "source": [
    "### 4. 문자열에서 숫자만 추출\n",
    "```python\n",
    "text = \"Order 123 items for $45.67\"\n",
    "# 출력: ['123', '45', '67']\n",
    "```"
   ]
  },
  {
   "cell_type": "code",
   "execution_count": 710,
   "metadata": {},
   "outputs": [
    {
     "name": "stdout",
     "output_type": "stream",
     "text": [
      "['123', '45', '67']\n"
     ]
    }
   ],
   "source": [
    "text = \"Order 123 items for $45.67\"\n",
    "number_pattern = r\"\\d+\\d\"\n",
    "print(re.findall(number_pattern,text))"
   ]
  },
  {
   "cell_type": "markdown",
   "metadata": {},
   "source": [
    "### 5. 공백으로 구분된 단어의 개수 세기\n",
    "```python\n",
    "text = \"This is a test sentence.\"\n",
    "# 출력: 5\n",
    "```\n"
   ]
  },
  {
   "cell_type": "code",
   "execution_count": 711,
   "metadata": {},
   "outputs": [
    {
     "name": "stdout",
     "output_type": "stream",
     "text": [
      "5\n",
      "5\n"
     ]
    }
   ],
   "source": [
    "text = \"This is a test sentence.\"   ##\n",
    "print(len(text.split(\" \")))\n",
    "word_pattern = r\"\\b\\w+\\b\"\n",
    "print(len(re.findall(word_pattern,text)))"
   ]
  },
  {
   "cell_type": "markdown",
   "metadata": {},
   "source": [
    "### 6. HTML 태그 제거하기\n",
    "```python\n",
    "html = \"<p>This is a paragraph.</p>\"\n",
    "# 출력: 'This is a paragraph.'\n",
    "```"
   ]
  },
  {
   "cell_type": "code",
   "execution_count": 712,
   "metadata": {},
   "outputs": [
    {
     "name": "stdout",
     "output_type": "stream",
     "text": [
      "This is a paragraph.\n"
     ]
    }
   ],
   "source": [
    "html = \"<p>This is a paragraph.</p>\"\n",
    "html_pattern = r\"<+[a-zA-Z/]+>\"\n",
    "print(re.sub(html_pattern,\"\",html))"
   ]
  },
  {
   "cell_type": "markdown",
   "metadata": {},
   "source": [
    "### 7. 특정 단어 포함 여부 확인\n",
    "```python\n",
    "text = \"Python is fun\"\n",
    "word = \"fun\"\n",
    "# 출력: True\n",
    "```"
   ]
  },
  {
   "cell_type": "code",
   "execution_count": 713,
   "metadata": {},
   "outputs": [
    {
     "name": "stdout",
     "output_type": "stream",
     "text": [
      "True\n"
     ]
    }
   ],
   "source": [
    "text = \"Python is fun\"\n",
    "word = \"fun\"\n",
    "isword = re.search(word,text)\n",
    "if isword:\n",
    "    print(True)\n",
    "else:\n",
    "    print(False)"
   ]
  },
  {
   "cell_type": "markdown",
   "metadata": {},
   "source": [
    "### 8. 날짜 형식 변환\n",
    "```python\n",
    "date = \"2025-01-27\"\n",
    "# 출력: '27-01-2025'\n",
    "```"
   ]
  },
  {
   "cell_type": "code",
   "execution_count": 714,
   "metadata": {},
   "outputs": [
    {
     "name": "stdout",
     "output_type": "stream",
     "text": [
      "27-01-2025\n"
     ]
    }
   ],
   "source": [
    "\n",
    "date = \"2025-01-27\"\n",
    "reverse_date = re.sub(r\"([1-9]\\d{3})-([0-1]?[0-9])-([0-3]?[0-9])\",r\"\\3-\\2-\\1\",date)\n",
    "print(reverse_date)"
   ]
  },
  {
   "cell_type": "markdown",
   "metadata": {},
   "source": [
    "### 9. 소문자와 대문자 교체\n",
    "```python\n",
    "text = \"Hello World!\"\n",
    "# 출력: 'hELLO wORLD'\n",
    "```"
   ]
  },
  {
   "cell_type": "code",
   "execution_count": 715,
   "metadata": {},
   "outputs": [
    {
     "name": "stdout",
     "output_type": "stream",
     "text": [
      "hELLO wORLD\n"
     ]
    }
   ],
   "source": [
    "text = \"Hello World\"\n",
    "upper_lower_chaage_text = re.sub(r\"\\w\",lambda x : x.group().upper() if x.group().islower() else x.group().lower(),text)\n",
    "print(upper_lower_chaage_text)"
   ]
  },
  {
   "cell_type": "markdown",
   "metadata": {},
   "source": [
    "### 10. IP 주소 형식 검사\n",
    "```python\n",
    "ip = \"192.168.1.1\"\n",
    "# 출력: True (형식이 올바른 경우)\n",
    "```"
   ]
  },
  {
   "cell_type": "code",
   "execution_count": 903,
   "metadata": {},
   "outputs": [
    {
     "name": "stdout",
     "output_type": "stream",
     "text": [
      "True\n"
     ]
    }
   ],
   "source": [
    "ip = \"192.168.1.1\"      ##\n",
    "ip_pattern = r'^((25[0-5]|2[0-4][0-9]|1?[0-9]?[0-9])\\.){3}(25[0-5]|2[0-4][0-9]|1?[0-9]?[0-9])$'\n",
    "    #0~255 +. 3번 반복후 .없는 0~255 시작과 끝 확인인\n",
    "if re.search(ip_pattern,ip):\n",
    "    print (True)\n",
    "else :\n",
    "    print (False)"
   ]
  },
  {
   "cell_type": "markdown",
   "metadata": {},
   "source": [
    "### 11. 문자열에서 모든 URL 추출\n",
    "```python\n",
    "text = \"Visit https://example.com or http://test.org for info.\"\n",
    "# 출력: ['https://example.com', 'http://test.org']\n",
    "```"
   ]
  },
  {
   "cell_type": "code",
   "execution_count": 904,
   "metadata": {},
   "outputs": [
    {
     "name": "stdout",
     "output_type": "stream",
     "text": [
      "['https://example.com', 'http://test.org']\n"
     ]
    }
   ],
   "source": [
    "text = \"Visit https://example.com or http://test.org for info.\"\n",
    "URL_pattern = r\"http+\\w*://\\w+\\w.\\w{2,3}\"\n",
    "print(re.findall(URL_pattern,text))"
   ]
  },
  {
   "cell_type": "markdown",
   "metadata": {},
   "source": [
    "### 12. 특정 패턴의 단어 치환\n",
    "```python\n",
    "text = \"I love cats and dogs\"\n",
    "pattern = r\"cats\"\n",
    "replacement = \"pets\"\n",
    "# 출력: 'I love pets and dogs'\n",
    "```"
   ]
  },
  {
   "cell_type": "code",
   "execution_count": 905,
   "metadata": {},
   "outputs": [
    {
     "name": "stdout",
     "output_type": "stream",
     "text": [
      "I love pets and dogs\n"
     ]
    }
   ],
   "source": [
    "\n",
    "text = \"I love cats and dogs\"\n",
    "pattern = r\"cats\"\n",
    "replacement = \"pets\"\n",
    "print(re.sub(pattern,replacement,text))"
   ]
  },
  {
   "cell_type": "markdown",
   "metadata": {},
   "source": [
    "### 13. 문자열에서 연속된 공백 제거\n",
    "```python\n",
    "text = \"This   is   a  test.\"\n",
    "# 출력: 'This is a test.'\n",
    "```"
   ]
  },
  {
   "cell_type": "code",
   "execution_count": 906,
   "metadata": {},
   "outputs": [
    {
     "name": "stdout",
     "output_type": "stream",
     "text": [
      "This is a test.\n"
     ]
    }
   ],
   "source": [
    "text = \"This   is   a  test.\"\n",
    "pattern = r\" + \"\n",
    "replacement = r\" \"\n",
    "print(re.sub(pattern,replacement,text))"
   ]
  },
  {
   "cell_type": "markdown",
   "metadata": {},
   "source": [
    "### 14. 특정 문자열이 파일 경로인지 검사\n",
    "```python\n",
    "path = \"/user/home/test.txt\"\n",
    "# 출력: True (파일 경로가 올바른 경우)\n",
    "```"
   ]
  },
  {
   "cell_type": "code",
   "execution_count": 907,
   "metadata": {},
   "outputs": [
    {
     "name": "stdout",
     "output_type": "stream",
     "text": [
      "True\n"
     ]
    }
   ],
   "source": [
    "path = \"/user/home/test.txt\"   #####\n",
    "if re.search(r'\\/([a-zA-Z0-9_.]+\\.[a-zA-Z0-9]+)$',path):\n",
    "    print(True)\n",
    "else:\n",
    "    print(False)"
   ]
  },
  {
   "cell_type": "markdown",
   "metadata": {},
   "source": [
    "### 15. 영어 단어만 추출하기\n",
    "```python\n",
    "text = \"123abc!@#def456\"\n",
    "# 출력: ['abc', 'def']\n",
    "```"
   ]
  },
  {
   "cell_type": "code",
   "execution_count": 908,
   "metadata": {},
   "outputs": [
    {
     "name": "stdout",
     "output_type": "stream",
     "text": [
      "['abc', 'def']\n"
     ]
    }
   ],
   "source": [
    "text = \"123abc!@#def456\"\n",
    "pattern = r\"[a-zA-Z]+[a-zA-Z]\"\n",
    "print(re.findall(pattern,text))"
   ]
  },
  {
   "cell_type": "markdown",
   "metadata": {},
   "source": [
    "### 16. 특정 접미사로 끝나는 단어 찾기\n",
    "```python\n",
    "text = \"running swimming jumping\"\n",
    "pattern = r\"ing\"\n",
    "# 출력: ['running', 'swimming', 'jumping']\n",
    "```"
   ]
  },
  {
   "cell_type": "code",
   "execution_count": 909,
   "metadata": {},
   "outputs": [
    {
     "name": "stdout",
     "output_type": "stream",
     "text": [
      "['running', 'swimming', 'jumping']\n"
     ]
    }
   ],
   "source": [
    "text = \"running swimming jumping\"\n",
    "pattern = r\"\\w+ing\\b\"\n",
    "print(re.findall(pattern,text))"
   ]
  },
  {
   "cell_type": "markdown",
   "metadata": {},
   "source": [
    "### 17. 문자열에서 중복된 단어 제거\n",
    "```python\n",
    "text = \"this this is is a test test\"\n",
    "# 출력: 'this is a test'\n",
    "```"
   ]
  },
  {
   "cell_type": "code",
   "execution_count": 910,
   "metadata": {},
   "outputs": [
    {
     "name": "stdout",
     "output_type": "stream",
     "text": [
      "this is a test\n"
     ]
    }
   ],
   "source": [
    "text = \"this this is is a test test\"        ## 괄호 하면 \\1\\2등으로 부를수있음음\n",
    "print(re.sub(r\"\\b(\\w+)\\s+\\1\\b\",r\"\\1\",text))"
   ]
  },
  {
   "cell_type": "markdown",
   "metadata": {},
   "source": [
    "### 18. 문자열에서 특수 문자 제거\n",
    "```python\n",
    "text = \"Hello!@#$%^&*()fdfd\"\n",
    "# 출력: 'Hellofdfd'\n",
    "```"
   ]
  },
  {
   "cell_type": "code",
   "execution_count": 911,
   "metadata": {},
   "outputs": [
    {
     "name": "stdout",
     "output_type": "stream",
     "text": [
      "Hello\n"
     ]
    }
   ],
   "source": [
    "text = \"Hello!@#$%^&*()\"\n",
    "pattern = r\"[^a-zA-Z]+[^a-zA-Z]\"\n",
    "print(re.sub(pattern,'',text))"
   ]
  },
  {
   "cell_type": "markdown",
   "metadata": {},
   "source": [
    "### 19. 특정 길이의 단어만 추출\n",
    "```python\n",
    "text = \"cat bat mat\"\n",
    "length = 3\n",
    "# 출력: ['cat', 'bat', 'mat']\n",
    "```"
   ]
  },
  {
   "cell_type": "code",
   "execution_count": 914,
   "metadata": {},
   "outputs": [
    {
     "name": "stdout",
     "output_type": "stream",
     "text": [
      "['cat', 'bat', 'mat']\n",
      "['cat', 'bat', 'mat']\n",
      "['cat', 'bat', 'mat']\n"
     ]
    }
   ],
   "source": [
    "text = \"cat bat mat\"\n",
    "print(list(filter(lambda x : len(x)==3,text.split(\" \"))))\n",
    "print(re.findall(r\"\\b[a-zA-Z][a-zA-Z][a-zA-Z]\\b\",text))\n",
    "print(re.findall(r\"\\b[a-zA-Z]{3}\\b\",text))"
   ]
  },
  {
   "cell_type": "markdown",
   "metadata": {},
   "source": [
    "### 20. 파일 확장자 추출\n",
    "python\n",
    "filename = \"document.pdf\"\n",
    "# 출력: 'pdf'"
   ]
  },
  {
   "cell_type": "code",
   "execution_count": 915,
   "metadata": {},
   "outputs": [
    {
     "name": "stdout",
     "output_type": "stream",
     "text": [
      "pdf\n"
     ]
    }
   ],
   "source": [
    "filename = \"docume.nt.pdf\"      ##\n",
    "print(re.search(r'\\.([a-zA-Z0-9]+)$',filename).group(1))"
   ]
  }
 ],
 "metadata": {
  "kernelspec": {
   "display_name": "Python 3",
   "language": "python",
   "name": "python3"
  },
  "language_info": {
   "codemirror_mode": {
    "name": "ipython",
    "version": 3
   },
   "file_extension": ".py",
   "mimetype": "text/x-python",
   "name": "python",
   "nbconvert_exporter": "python",
   "pygments_lexer": "ipython3",
   "version": "3.12.8"
  }
 },
 "nbformat": 4,
 "nbformat_minor": 2
}
