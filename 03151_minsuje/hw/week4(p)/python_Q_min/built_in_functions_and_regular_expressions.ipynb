{
 "cells": [
  {
   "cell_type": "markdown",
   "metadata": {},
   "source": [
    "## 내장 함수 문제"
   ]
  },
  {
   "cell_type": "markdown",
   "metadata": {},
   "source": [
    "### 1. abs 함수 사용하기\n",
    "```python\n",
    "# 입력: -5\n",
    "# 출력: 5\n",
    "```"
   ]
  },
  {
   "cell_type": "code",
   "execution_count": null,
   "metadata": {},
   "outputs": [],
   "source": []
  },
  {
   "cell_type": "markdown",
   "metadata": {},
   "source": [
    "### 2. all 함수로 리스트 검사하기\n",
    "```python\n",
    "numbers = [True, True, False]\n",
    "# 출력: False\n",
    "```"
   ]
  },
  {
   "cell_type": "code",
   "execution_count": null,
   "metadata": {},
   "outputs": [],
   "source": []
  },
  {
   "cell_type": "markdown",
   "metadata": {},
   "source": [
    "### 3. any 함수로 값 존재 여부 확인\n",
    "```python\n",
    "numbers = [0, 0, 1]\n",
    "# 출력: True\n",
    "```"
   ]
  },
  {
   "cell_type": "code",
   "execution_count": null,
   "metadata": {},
   "outputs": [],
   "source": []
  },
  {
   "cell_type": "markdown",
   "metadata": {},
   "source": [
    "### 4. enumerate 함수로 인덱스와 값 출력\n",
    "```python\n",
    "words = [\"a\", \"b\", \"c\"]\n",
    "# 출력: [(0, \"a\"), (1, \"b\"), (2, \"c\")]\n",
    "```"
   ]
  },
  {
   "cell_type": "code",
   "execution_count": null,
   "metadata": {},
   "outputs": [],
   "source": []
  },
  {
   "cell_type": "markdown",
   "metadata": {},
   "source": [
    "### 5. filter 함수로 짝수 필터링\n",
    "```python\n",
    "numbers = [1, 2, 3, 4, 5]\n",
    "# 출력: [2, 4]\n",
    "```"
   ]
  },
  {
   "cell_type": "code",
   "execution_count": null,
   "metadata": {},
   "outputs": [],
   "source": []
  },
  {
   "cell_type": "markdown",
   "metadata": {},
   "source": [
    "### 6. len 함수로 리스트 길이 확인\n",
    "```python\n",
    "numbers = [1, 2, 3]\n",
    "# 출력: 3\n",
    "```"
   ]
  },
  {
   "cell_type": "code",
   "execution_count": null,
   "metadata": {},
   "outputs": [],
   "source": []
  },
  {
   "cell_type": "markdown",
   "metadata": {},
   "source": [
    "### 7. max 함수로 최대값 찾기\n",
    "```python\n",
    "numbers = [10, 20, 30]\n",
    "# 출력: 30\n",
    "```"
   ]
  },
  {
   "cell_type": "code",
   "execution_count": null,
   "metadata": {},
   "outputs": [],
   "source": []
  },
  {
   "cell_type": "markdown",
   "metadata": {},
   "source": [
    "### 8. min 함수로 최소값 찾기\n",
    "```python\n",
    "numbers = [10, 20, 30]\n",
    "# 출력: 10\n",
    "```"
   ]
  },
  {
   "cell_type": "code",
   "execution_count": null,
   "metadata": {},
   "outputs": [],
   "source": []
  },
  {
   "cell_type": "markdown",
   "metadata": {},
   "source": [
    "### 9. map 함수로 리스트 요소 제곱\n",
    "```python\n",
    "numbers = [1, 2, 3]\n",
    "# 출력: [1, 4, 9]\n",
    "```"
   ]
  },
  {
   "cell_type": "code",
   "execution_count": null,
   "metadata": {},
   "outputs": [],
   "source": []
  },
  {
   "cell_type": "markdown",
   "metadata": {},
   "source": [
    "### 10. pow 함수로 제곱 계산\n",
    "```python\n",
    "# 입력: 2, 3\n",
    "# 출력: 8\n",
    "```"
   ]
  },
  {
   "cell_type": "code",
   "execution_count": null,
   "metadata": {},
   "outputs": [],
   "source": []
  },
  {
   "cell_type": "markdown",
   "metadata": {},
   "source": [
    "### 11. range 함수로 숫자 생성\n",
    "```python\n",
    "# 입력: range(5)\n",
    "# 출력: [0, 1, 2, 3, 4]\n",
    "```\n"
   ]
  },
  {
   "cell_type": "code",
   "execution_count": null,
   "metadata": {},
   "outputs": [],
   "source": []
  },
  {
   "cell_type": "markdown",
   "metadata": {},
   "source": [
    "### 12. reversed 함수로 리스트 뒤집기\n",
    "```python\n",
    "numbers = [1, 2, 3]\n",
    "# 출력: [3, 2, 1]\n",
    "```"
   ]
  },
  {
   "cell_type": "code",
   "execution_count": null,
   "metadata": {},
   "outputs": [],
   "source": []
  },
  {
   "cell_type": "markdown",
   "metadata": {},
   "source": [
    "### 13. round 함수로 소수점 반올림\n",
    "```python\n",
    "# 입력: 3.14159, 2\n",
    "# 출력: 3.14\n",
    "```"
   ]
  },
  {
   "cell_type": "code",
   "execution_count": null,
   "metadata": {},
   "outputs": [],
   "source": []
  },
  {
   "cell_type": "markdown",
   "metadata": {},
   "source": [
    "### 14. sorted 함수로 정렬하기\n",
    "```python\n",
    "numbers = [3, 1, 2]\n",
    "# 출력: [1, 2, 3]\n",
    "```"
   ]
  },
  {
   "cell_type": "code",
   "execution_count": null,
   "metadata": {},
   "outputs": [],
   "source": []
  },
  {
   "cell_type": "markdown",
   "metadata": {},
   "source": [
    "### 15. sum 함수로 리스트 합 계산\n",
    "```python\n",
    "numbers = [1, 2, 3]\n",
    "# 출력: 6\n",
    "```"
   ]
  },
  {
   "cell_type": "code",
   "execution_count": null,
   "metadata": {},
   "outputs": [],
   "source": []
  },
  {
   "cell_type": "markdown",
   "metadata": {},
   "source": [
    "### 16. type 함수로 데이터 타입 확인\n",
    "```python\n",
    "value = 42\n",
    "# 출력: <class 'int'>\n",
    "```"
   ]
  },
  {
   "cell_type": "code",
   "execution_count": null,
   "metadata": {},
   "outputs": [],
   "source": []
  },
  {
   "cell_type": "markdown",
   "metadata": {},
   "source": [
    "### 17. zip 함수로 리스트 병합\n",
    "```python\n",
    "list1 = [1, 2, 3]\n",
    "list2 = [\"a\", \"b\", \"c\"]\n",
    "# 출력: [(1, \"a\"), (2, \"b\"), (3, \"c\")]\n",
    "```"
   ]
  },
  {
   "cell_type": "code",
   "execution_count": null,
   "metadata": {},
   "outputs": [],
   "source": []
  },
  {
   "cell_type": "markdown",
   "metadata": {},
   "source": [
    "### 18. eval 함수로 문자열 표현식 계산\n",
    "```python\n",
    "expression = \"2 + 3 * 4\"\n",
    "# 출력: 14\n",
    "```"
   ]
  },
  {
   "cell_type": "code",
   "execution_count": null,
   "metadata": {},
   "outputs": [],
   "source": []
  },
  {
   "cell_type": "markdown",
   "metadata": {},
   "source": [
    "### 19. chr 함수로 아스키 코드 문자 반환\n",
    "```python\n",
    "# 입력: 97\n",
    "# 출력: 'a'\n",
    "```"
   ]
  },
  {
   "cell_type": "code",
   "execution_count": null,
   "metadata": {},
   "outputs": [],
   "source": []
  },
  {
   "cell_type": "markdown",
   "metadata": {},
   "source": [
    "### 20. ord 함수로 문자 아스키 코드 반환\n",
    "```python\n",
    "# 입력: 'a'\n",
    "# 출력: 97\n",
    "```"
   ]
  },
  {
   "cell_type": "code",
   "execution_count": null,
   "metadata": {},
   "outputs": [],
   "source": []
  },
  {
   "cell_type": "markdown",
   "metadata": {},
   "source": [
    "## 정규 표현식 문제"
   ]
  },
  {
   "cell_type": "markdown",
   "metadata": {},
   "source": [
    "### 1. 문자열에서 모든 이메일 주소 찾기\n",
    "```python\n",
    "text = \"Contact us at info@example.com or support@domain.org\"\n",
    "# 출력: ['info@example.com', 'support@domain.org']\n",
    "```"
   ]
  },
  {
   "cell_type": "code",
   "execution_count": null,
   "metadata": {},
   "outputs": [],
   "source": []
  },
  {
   "cell_type": "markdown",
   "metadata": {},
   "source": [
    "### 2. all 함수로 리스트 검사하기\n",
    "```python\n",
    "numbers = [True, True, False]\n",
    "# 출력: False\n",
    "```"
   ]
  },
  {
   "cell_type": "code",
   "execution_count": null,
   "metadata": {},
   "outputs": [],
   "source": []
  },
  {
   "cell_type": "markdown",
   "metadata": {},
   "source": [
    "### 3. any 함수로 값 존재 여부 확인\n",
    "```python\n",
    "numbers = [0, 0, 1]\n",
    "# 출력: True\n",
    "```"
   ]
  },
  {
   "cell_type": "code",
   "execution_count": null,
   "metadata": {},
   "outputs": [],
   "source": []
  },
  {
   "cell_type": "markdown",
   "metadata": {},
   "source": [
    "### 4. enumerate 함수로 인덱스와 값 출력\n",
    "```python\n",
    "words = [\"a\", \"b\", \"c\"]\n",
    "# 출력: [(0, \"a\"), (1, \"b\"), (2, \"c\")]\n",
    "```"
   ]
  },
  {
   "cell_type": "code",
   "execution_count": null,
   "metadata": {},
   "outputs": [],
   "source": []
  },
  {
   "cell_type": "markdown",
   "metadata": {},
   "source": [
    "### 5. filter 함수로 짝수 필터링\n",
    "```python\n",
    "numbers = [1, 2, 3, 4, 5]\n",
    "# 출력: [2, 4]\n",
    "```"
   ]
  },
  {
   "cell_type": "code",
   "execution_count": null,
   "metadata": {},
   "outputs": [],
   "source": []
  },
  {
   "cell_type": "markdown",
   "metadata": {},
   "source": [
    "### 6. len 함수로 리스트 길이 확인\n",
    "```python\n",
    "numbers = [1, 2, 3]\n",
    "# 출력: 3\n",
    "```"
   ]
  },
  {
   "cell_type": "code",
   "execution_count": null,
   "metadata": {},
   "outputs": [],
   "source": []
  },
  {
   "cell_type": "markdown",
   "metadata": {},
   "source": [
    "### 7. max 함수로 최대값 찾기\n",
    "```python\n",
    "numbers = [10, 20, 30]\n",
    "# 출력: 30\n",
    "```"
   ]
  },
  {
   "cell_type": "code",
   "execution_count": null,
   "metadata": {},
   "outputs": [],
   "source": []
  },
  {
   "cell_type": "markdown",
   "metadata": {},
   "source": [
    "### 8. min 함수로 최소값 찾기\n",
    "```python\n",
    "numbers = [10, 20, 30]\n",
    "# 출력: 10\n",
    "```"
   ]
  },
  {
   "cell_type": "code",
   "execution_count": null,
   "metadata": {},
   "outputs": [],
   "source": []
  },
  {
   "cell_type": "markdown",
   "metadata": {},
   "source": [
    "### 9. map 함수로 리스트 요소 제곱\n",
    "```python\n",
    "numbers = [1, 2, 3]\n",
    "# 출력: [1, 4, 9]\n",
    "```"
   ]
  },
  {
   "cell_type": "code",
   "execution_count": null,
   "metadata": {},
   "outputs": [],
   "source": []
  },
  {
   "cell_type": "markdown",
   "metadata": {},
   "source": [
    "### 10. pow 함수로 제곱 계산\n",
    "```python\n",
    "# 입력: 2, 3\n",
    "# 출력: 8\n",
    "```"
   ]
  },
  {
   "cell_type": "code",
   "execution_count": null,
   "metadata": {},
   "outputs": [],
   "source": []
  },
  {
   "cell_type": "markdown",
   "metadata": {},
   "source": [
    "### 11. range 함수로 숫자 생성\n",
    "```python\n",
    "# 입력: range(5)\n",
    "# 출력: [0, 1, 2, 3, 4]\n",
    "```"
   ]
  },
  {
   "cell_type": "code",
   "execution_count": null,
   "metadata": {},
   "outputs": [],
   "source": []
  },
  {
   "cell_type": "markdown",
   "metadata": {},
   "source": [
    "### 12. reversed 함수로 리스트 뒤집기\n",
    "```python\n",
    "numbers = [1, 2, 3]\n",
    "# 출력: [3, 2, 1]\n",
    "```"
   ]
  },
  {
   "cell_type": "code",
   "execution_count": null,
   "metadata": {},
   "outputs": [],
   "source": []
  },
  {
   "cell_type": "markdown",
   "metadata": {},
   "source": [
    "### 13. round 함수로 소수점 반올림\n",
    "```python\n",
    "# 입력: 3.14159, 2\n",
    "# 출력: 3.14\n",
    "```"
   ]
  },
  {
   "cell_type": "code",
   "execution_count": null,
   "metadata": {},
   "outputs": [],
   "source": []
  },
  {
   "cell_type": "markdown",
   "metadata": {},
   "source": [
    "### 14. sorted 함수로 정렬하기\n",
    "```python\n",
    "numbers = [3, 1, 2]\n",
    "# 출력: [1, 2, 3]\n",
    "```"
   ]
  },
  {
   "cell_type": "code",
   "execution_count": null,
   "metadata": {},
   "outputs": [],
   "source": []
  },
  {
   "cell_type": "markdown",
   "metadata": {},
   "source": [
    "### 15. sum 함수로 리스트 합 계산\n",
    "```python\n",
    "numbers = [1, 2, 3]\n",
    "# 출력: 6\n",
    "```"
   ]
  },
  {
   "cell_type": "code",
   "execution_count": null,
   "metadata": {},
   "outputs": [],
   "source": []
  },
  {
   "cell_type": "markdown",
   "metadata": {},
   "source": [
    "### 16. type 함수로 데이터 타입 확인\n",
    "```python\n",
    "value = 42\n",
    "# 출력: <class 'int'>\n",
    "```"
   ]
  },
  {
   "cell_type": "code",
   "execution_count": null,
   "metadata": {},
   "outputs": [],
   "source": []
  },
  {
   "cell_type": "markdown",
   "metadata": {},
   "source": [
    "### 17. zip 함수로 리스트 병합\n",
    "```python\n",
    "list1 = [1, 2, 3]\n",
    "list2 = [\"a\", \"b\", \"c\"]\n",
    "# 출력: [(1, \"a\"), (2, \"b\"), (3, \"c\")]\n",
    "```"
   ]
  },
  {
   "cell_type": "code",
   "execution_count": null,
   "metadata": {},
   "outputs": [],
   "source": []
  },
  {
   "cell_type": "markdown",
   "metadata": {},
   "source": [
    "### 18. eval 함수로 문자열 표현식 계산\n",
    "```python\n",
    "expression = \"2 + 3 * 4\"\n",
    "# 출력: 14\n",
    "```"
   ]
  },
  {
   "cell_type": "code",
   "execution_count": null,
   "metadata": {},
   "outputs": [],
   "source": []
  },
  {
   "cell_type": "markdown",
   "metadata": {},
   "source": [
    "### 19. chr 함수로 아스키 코드 문자 반환\n",
    "```python\n",
    "# 입력: 97\n",
    "# 출력: 'a'\n",
    "```"
   ]
  },
  {
   "cell_type": "code",
   "execution_count": null,
   "metadata": {},
   "outputs": [],
   "source": []
  },
  {
   "cell_type": "markdown",
   "metadata": {},
   "source": [
    "### 20. ord 함수로 문자 아스키 코드 반환\n",
    "```python\n",
    "# 입력: 'a'\n",
    "# 출력: 97\n",
    "```"
   ]
  },
  {
   "cell_type": "code",
   "execution_count": null,
   "metadata": {},
   "outputs": [],
   "source": []
  }
 ],
 "metadata": {
  "language_info": {
   "name": "python"
  }
 },
 "nbformat": 4,
 "nbformat_minor": 2
}
