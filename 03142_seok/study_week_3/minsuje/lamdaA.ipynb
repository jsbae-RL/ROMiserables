{
 "cells": [
  {
   "cell_type": "markdown",
   "metadata": {},
   "source": [
    "### 1. 두 숫자를 더하는 람다 함수 작성하기\n",
    "```python\n",
    "# 입력: (3, 5)\n",
    "# 출력: 8\n",
    "```"
   ]
  },
  {
   "cell_type": "code",
   "execution_count": 1,
   "metadata": {},
   "outputs": [
    {
     "name": "stdout",
     "output_type": "stream",
     "text": [
      "8\n"
     ]
    }
   ],
   "source": [
    "sum_num = lambda x, y : x+y\n",
    "print(sum_num(3,5))"
   ]
  },
  {
   "cell_type": "markdown",
   "metadata": {},
   "source": [
    "### 2. 리스트의 각 요소를 제곱하는 람다 함수 사용\n",
    "```python\n",
    "numbers = [1, 2, 3, 4]\n",
    "# 출력: [1, 4, 9, 16]\n",
    "```\n"
   ]
  },
  {
   "cell_type": "code",
   "execution_count": 12,
   "metadata": {},
   "outputs": [
    {
     "name": "stdout",
     "output_type": "stream",
     "text": [
      "[1, 4, 9, 16]\n"
     ]
    }
   ],
   "source": [
    "numbers = [1, 2, 3, 4]              ##\n",
    "square_num = lambda x : x**2\n",
    "square_nubers = list(map(square_num, numbers))\n",
    "print(square_nubers)"
   ]
  },
  {
   "cell_type": "markdown",
   "metadata": {},
   "source": [
    "\n",
    "### 3. 문자열 길이를 반환하는 람다 함수 작성\n",
    "```python\n",
    "words = [\"hello\", \"world\"]\n",
    "# 출력: [5, 5]\n",
    "```\n"
   ]
  },
  {
   "cell_type": "code",
   "execution_count": 13,
   "metadata": {},
   "outputs": [
    {
     "name": "stdout",
     "output_type": "stream",
     "text": [
      "[5, 5]\n"
     ]
    }
   ],
   "source": [
    "words = [\"hello\",\"world\"]\n",
    "len_str = lambda x : len(x)\n",
    "words_len = list(map(len_str,words))\n",
    "print(words_len)"
   ]
  },
  {
   "cell_type": "markdown",
   "metadata": {},
   "source": [
    "\n",
    "### 4. 짝수 필터링\n",
    "```python\n",
    "numbers = [1, 2, 3, 4, 5, 6]\n",
    "# 출력: [2, 4, 6]\n",
    "```\n"
   ]
  },
  {
   "cell_type": "code",
   "execution_count": 16,
   "metadata": {},
   "outputs": [
    {
     "name": "stdout",
     "output_type": "stream",
     "text": [
      "[2, 4, 6]\n",
      "[2, 4, 6]\n"
     ]
    }
   ],
   "source": [
    "numbers = [1,2,3,4,5,6]     ##\n",
    "even_num = lambda x: x if x%2==0 else None                  #람다 if 문은 else 필수구나..\n",
    "even_numbers = list(map(even_num, numbers))\n",
    "even_numbers = [x for x in even_numbers if x is not None]   #컴프리 헨션 \n",
    "#or\n",
    "even_numbers2 = list(filter(lambda x: x % 2 == 0, numbers))\n",
    "print(even_numbers)\n",
    "print(even_numbers2)"
   ]
  },
  {
   "cell_type": "markdown",
   "metadata": {},
   "source": [
    "\n",
    "### 5. 리스트의 최대값 찾기\n",
    "```python\n",
    "numbers = [10, 20, 30, 40]\n",
    "# 출력: 40\n",
    "```\n"
   ]
  },
  {
   "cell_type": "code",
   "execution_count": 23,
   "metadata": {},
   "outputs": [
    {
     "name": "stdout",
     "output_type": "stream",
     "text": [
      "40\n",
      "40\n"
     ]
    }
   ],
   "source": [
    "numbers = [10, 20, 30, 40]\n",
    "max_num = lambda x: max(x)\n",
    "max_number = max_num(numbers)\n",
    "#or\n",
    "from functools import reduce            ##리스트의 첫 두 요소를 비교한 뒤, 그 결과를 다음 요소와 계속 비교\n",
    "max_number2 = reduce(lambda a,b: a if a>b else b, numbers)\n",
    "\n",
    "print(max_number)\n",
    "print(max_number2)"
   ]
  },
  {
   "cell_type": "markdown",
   "metadata": {},
   "source": [
    "\n",
    "### 6. 단어를 알파벳 순서로 정렬하기\n",
    "```python\n",
    "words = [\"banana\", \"apple\", \"cherry\"]\n",
    "# 출력: [\"apple\", \"banana\", \"cherry\"]\n",
    "```\n"
   ]
  },
  {
   "cell_type": "code",
   "execution_count": 27,
   "metadata": {},
   "outputs": [
    {
     "name": "stdout",
     "output_type": "stream",
     "text": [
      "['apple', 'banana', 'cherry']\n"
     ]
    }
   ],
   "source": [
    "words = [\"banana\", \"apple\", \"cherry\"]       ##\n",
    "ASC_words = lambda x : sorted(x)\n",
    "new_words = ASC_words(words)\n",
    "print(new_words)\n"
   ]
  },
  {
   "cell_type": "markdown",
   "metadata": {},
   "source": [
    "\n",
    "### 7. 리스트의 요소를 두 배로 만드는 람다 함수\n",
    "```python\n",
    "numbers = [1, 2, 3]\n",
    "# 출력: [2, 4, 6]\n",
    "```\n"
   ]
  },
  {
   "cell_type": "code",
   "execution_count": 29,
   "metadata": {},
   "outputs": [
    {
     "name": "stdout",
     "output_type": "stream",
     "text": [
      "[2, 4, 6]\n"
     ]
    }
   ],
   "source": [
    "numbers = [1, 2, 3]\n",
    "double_num = lambda x : 2*x\n",
    "double_numbers = list(map(double_num, numbers))\n",
    "print(double_numbers)"
   ]
  },
  {
   "cell_type": "markdown",
   "metadata": {},
   "source": [
    "\n",
    "### 8. 특정 조건에 따라 값 필터링\n",
    "```python\n",
    "numbers = [5, 10, 15, 20]\n",
    "# 조건: 10 이상인 숫자만\n",
    "# 출력: [10, 15, 20]\n",
    "```\n"
   ]
  },
  {
   "cell_type": "code",
   "execution_count": 32,
   "metadata": {},
   "outputs": [
    {
     "name": "stdout",
     "output_type": "stream",
     "text": [
      "[10, 15, 20]\n"
     ]
    }
   ],
   "source": [
    "numbers = [5,10,15,20]\n",
    "num_if = list(filter(lambda x: x>=10, numbers))\n",
    "print(num_if)"
   ]
  },
  {
   "cell_type": "markdown",
   "metadata": {},
   "source": [
    "\n",
    "### 9. 문자열 리스트를 대문자로 변환\n",
    "```python\n",
    "words = [\"python\", \"lambda\"]\n",
    "# 출력: [\"PYTHON\", \"LAMBDA\"]\n",
    "```\n"
   ]
  },
  {
   "cell_type": "code",
   "execution_count": 34,
   "metadata": {},
   "outputs": [
    {
     "name": "stdout",
     "output_type": "stream",
     "text": [
      "['PYTHON', 'LAMBDA']\n",
      "['python', 'lambda']\n"
     ]
    }
   ],
   "source": [
    "words = [\"python\", \"lambda\"]        ##\n",
    "upper_words = lambda x : x.upper()\n",
    "lower_words = lambda x : x.lower()\n",
    "new_words = list(map(upper_words, words))\n",
    "print(new_words)\n",
    "print(list(map(lower_words,new_words)))"
   ]
  },
  {
   "cell_type": "markdown",
   "metadata": {},
   "source": [
    "\n",
    "### 10. 람다와 map을 사용해 리스트의 제곱근 계산\n",
    "```python\n",
    "numbers = [4, 9, 16]\n",
    "# 출력: [2.0, 3.0, 4.0]\n",
    "```\n"
   ]
  },
  {
   "cell_type": "code",
   "execution_count": 38,
   "metadata": {},
   "outputs": [
    {
     "name": "stdout",
     "output_type": "stream",
     "text": [
      "[2.0, 3.0, 4.0]\n",
      "[2.0, 3.0, 4.0]\n"
     ]
    }
   ],
   "source": [
    "numbers = [4, 9, 16]        ##\n",
    "root_nummbers = list(map(lambda x : x**(1/2),numbers))\n",
    "#or\n",
    "from math import sqrt\n",
    "root_nummbers2 = list(map(lambda x: sqrt(x), numbers))\n",
    "print(root_nummbers)\n",
    "print(root_nummbers2)"
   ]
  },
  {
   "cell_type": "markdown",
   "metadata": {},
   "source": [
    "\n",
    "### 11. 리스트 내 특정 단어 포함 여부 확인\n",
    "```python\n",
    "words = [\"hello\", \"world\"]\n",
    "# 조건: 'w'가 포함된 단어\n",
    "# 출력: [\"world\"]\n",
    "```\n"
   ]
  },
  {
   "cell_type": "code",
   "execution_count": 45,
   "metadata": {},
   "outputs": [
    {
     "name": "stdout",
     "output_type": "stream",
     "text": [
      "['world', 'wolf', 'aws']\n"
     ]
    }
   ],
   "source": [
    "words = [\"hello\", \"world\",'wolf','aws']  ##\n",
    "find_w_words = list(filter(lambda x: 'w' in x,words))\n",
    "print(find_w_words)"
   ]
  },
  {
   "cell_type": "markdown",
   "metadata": {},
   "source": [
    "\n",
    "### 12. 람다와 reduce를 사용해 리스트의 곱 계산\n",
    "```python\n",
    "numbers = [1, 2, 3, 4]\n",
    "# 출력: 24\n",
    "```\n"
   ]
  },
  {
   "cell_type": "code",
   "execution_count": 46,
   "metadata": {},
   "outputs": [
    {
     "name": "stdout",
     "output_type": "stream",
     "text": [
      "24\n"
     ]
    }
   ],
   "source": [
    "from functools import reduce\n",
    "numbers = [1,2,3,4]\n",
    "multiplication_number = reduce(lambda a,b : a*b, numbers)\n",
    "print(multiplication_number)"
   ]
  },
  {
   "cell_type": "markdown",
   "metadata": {},
   "source": [
    "\n",
    "### 13. 리스트의 짝수 요소를 제곱\n",
    "```python\n",
    "numbers = [1, 2, 3, 4, 5]\n",
    "# 출력: [4, 16]\n",
    "```\n"
   ]
  },
  {
   "cell_type": "code",
   "execution_count": 47,
   "metadata": {},
   "outputs": [
    {
     "name": "stdout",
     "output_type": "stream",
     "text": [
      "[4, 16]\n",
      "[4, 16]\n",
      "[4, 16]\n"
     ]
    }
   ],
   "source": [
    "numbers = [1,2,3,4,5]       ##\n",
    "even_square = lambda x : x**2 if x%2==0 else None\n",
    "even_sque = list(map(even_square, numbers))\n",
    "even_sque = [x for x in even_sque if x is not None]\n",
    "#or\n",
    "even_square1 = list(filter(lambda x: x % 2 == 0, numbers))\n",
    "even_sque1 = list(map(lambda x : x**2, even_square1))\n",
    "#or\n",
    "even_sque2 = list(map(lambda x: x**2, filter(lambda x : x%2==0,numbers)))\n",
    "print(even_sque)\n",
    "print(even_sque1)\n",
    "print(even_sque2)"
   ]
  },
  {
   "cell_type": "markdown",
   "metadata": {},
   "source": [
    "\n",
    "### 14. 두 리스트의 합 생성\n",
    "```python\n",
    "list1 = [1, 2, 3]\n",
    "list2 = [4, 5, 6]\n",
    "# 출력: [5, 7, 9]\n",
    "```\n"
   ]
  },
  {
   "cell_type": "code",
   "execution_count": 48,
   "metadata": {},
   "outputs": [
    {
     "name": "stdout",
     "output_type": "stream",
     "text": [
      "[5, 7, 9]\n"
     ]
    }
   ],
   "source": [
    "list1 = [1, 2, 3]\n",
    "list2 = [4, 5, 6]\n",
    "list_sum = list(map(lambda a,b : a+b,list1,list2))\n",
    "print(list_sum)"
   ]
  },
  {
   "cell_type": "markdown",
   "metadata": {},
   "source": [
    "\n",
    "### 15. 이름과 나이를 튜플로 정렬\n",
    "```python\n",
    "people = [(\"Alice\", 30), (\"Bob\", 25), (\"Charlie\", 35)]\n",
    "# 나이 순으로 정렬\n",
    "# 출력: [(\"Bob\", 25), (\"Alice\", 30), (\"Charlie\", 35)]\n",
    "```\n"
   ]
  },
  {
   "cell_type": "code",
   "execution_count": 49,
   "metadata": {},
   "outputs": [
    {
     "name": "stdout",
     "output_type": "stream",
     "text": [
      "[('Bob', 25), ('Alice', 30), ('Charlie', 35)]\n",
      "[('Alice', 30), ('Bob', 25), ('Charlie', 35)]\n"
     ]
    }
   ],
   "source": [
    "people = [(\"Alice\", 30), (\"Bob\", 25), (\"Charlie\", 35)]\n",
    "sorted_age_people = sorted(people,key = lambda x : x[1])\n",
    "print(sorted_age_people)\n",
    "sorted_name_people = sorted(sorted_age_people,key = lambda x : x[0])\n",
    "print(sorted_name_people)"
   ]
  },
  {
   "cell_type": "markdown",
   "metadata": {},
   "source": [
    "\n",
    "### 16. 두 문자열을 결합하는 람다 함수 작성\n",
    "```python\n",
    "# 입력: (\"hello\", \"world\")\n",
    "# 출력: \"hello world\"\n",
    "```\n"
   ]
  },
  {
   "cell_type": "code",
   "execution_count": 50,
   "metadata": {},
   "outputs": [
    {
     "name": "stdout",
     "output_type": "stream",
     "text": [
      "hello world\n"
     ]
    }
   ],
   "source": [
    "first_word = 'hello'\n",
    "second_word = 'world'\n",
    "sum_word = lambda a,b: a+' '+b\n",
    "print(sum_word(input(),input()))"
   ]
  },
  {
   "cell_type": "markdown",
   "metadata": {},
   "source": [
    "\n",
    "### 17. 리스트에서 짝수의 합 계산\n",
    "```python\n",
    "numbers = [1, 2, 3, 4, 5, 6]\n",
    "# 출력: 12\n",
    "```\n"
   ]
  },
  {
   "cell_type": "code",
   "execution_count": 51,
   "metadata": {},
   "outputs": [
    {
     "name": "stdout",
     "output_type": "stream",
     "text": [
      "12\n"
     ]
    }
   ],
   "source": [
    "numbers = [1, 2, 3, 4, 5, 6]\n",
    "from functools import reduce\n",
    "\n",
    "even_num_sum = reduce(lambda a,b :a+b, list(filter(lambda x: x%2==0,numbers)))\n",
    "print(even_num_sum)"
   ]
  },
  {
   "cell_type": "markdown",
   "metadata": {},
   "source": [
    "\n",
    "### 18. 문자열의 첫 글자를 반환\n",
    "```python\n",
    "words = [\"apple\", \"banana\"]\n",
    "# 출력: [\"a\", \"b\"]\n",
    "```\n"
   ]
  },
  {
   "cell_type": "code",
   "execution_count": 52,
   "metadata": {},
   "outputs": [
    {
     "name": "stdout",
     "output_type": "stream",
     "text": [
      "['a', 'b']\n",
      "['Apple', 'Banana']\n"
     ]
    }
   ],
   "source": [
    "words = [\"apple\", \"banana\"]\n",
    "\n",
    "changed_words = list(map(lambda x : x[0],words))\n",
    "print(changed_words)\n",
    "#응용 첫 글자만 대문자 만들기\n",
    "changed_words1 = list(map(lambda x : x[0].upper() + x[1:] ,words))\n",
    "print(changed_words1)"
   ]
  },
  {
   "cell_type": "markdown",
   "metadata": {},
   "source": [
    "\n",
    "### 19. 리스트의 요소를 문자열로 변환\n",
    "```python\n",
    "numbers = [1, 2, 3]\n",
    "# 출력: [\"1\", \"2\", \"3\"]\n",
    "```\n"
   ]
  },
  {
   "cell_type": "code",
   "execution_count": 53,
   "metadata": {},
   "outputs": [
    {
     "name": "stdout",
     "output_type": "stream",
     "text": [
      "['1', '2', '3']\n"
     ]
    }
   ],
   "source": [
    "numbers = [1, 2, 3]\n",
    "\n",
    "string_numbers = list(map(lambda x : str(x),numbers))\n",
    "print(string_numbers)"
   ]
  },
  {
   "cell_type": "markdown",
   "metadata": {},
   "source": [
    "### 20. 특정 길이 이상의 단어 필터링\n",
    "```python\n",
    "words = [\"python\", \"is\", \"awesome\"]\n",
    "# 조건: 길이 3 이상\n",
    "# 출력: [\"python\", \"awesome\"]\n",
    "```"
   ]
  },
  {
   "cell_type": "code",
   "execution_count": 54,
   "metadata": {},
   "outputs": [
    {
     "name": "stdout",
     "output_type": "stream",
     "text": [
      "['python', 'awesome']\n"
     ]
    }
   ],
   "source": [
    "words = [\"python\", \"is\", \"awesome\"]\n",
    "thr_len_words = list(filter(lambda x : len(x)>=3 ,words))\n",
    "print(thr_len_words)"
   ]
  },
  {
   "cell_type": "code",
   "execution_count": null,
   "metadata": {},
   "outputs": [],
   "source": []
  }
 ],
 "metadata": {
  "kernelspec": {
   "display_name": "Python 3",
   "language": "python",
   "name": "python3"
  },
  "language_info": {
   "codemirror_mode": {
    "name": "ipython",
    "version": 3
   },
   "file_extension": ".py",
   "mimetype": "text/x-python",
   "name": "python",
   "nbconvert_exporter": "python",
   "pygments_lexer": "ipython3",
   "version": "3.12.8"
  }
 },
 "nbformat": 4,
 "nbformat_minor": 2
}
