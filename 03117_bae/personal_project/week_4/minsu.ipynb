{
 "cells": [
  {
   "cell_type": "markdown",
   "metadata": {},
   "source": [
    "## 내장 함수 문제"
   ]
  },
  {
   "cell_type": "markdown",
   "metadata": {},
   "source": [
    "### 1. 절대값 함수 사용하기\n",
    "```python\n",
    "# 입력: -5\n",
    "# 출력: 5\n",
    "```"
   ]
  },
  {
   "cell_type": "code",
   "execution_count": null,
   "metadata": {},
   "outputs": [],
   "source": []
  },
  {
   "cell_type": "markdown",
   "metadata": {},
   "source": [
    "### 2. all 함수로 리스트 검사하기\n",
    "```python\n",
    "numbers = [True, True, False]\n",
    "# 출력: False\n",
    "```\n",
    "all은 받은 값들이 모두 참 일때만 True 0또는 false가 하나라도 끼여있으면 false"
   ]
  },
  {
   "cell_type": "code",
   "execution_count": null,
   "metadata": {},
   "outputs": [],
   "source": []
  },
  {
   "cell_type": "markdown",
   "metadata": {},
   "source": [
    "### 3. any 함수로 값 존재 여부 확인\n",
    "```python\n",
    "numbers = [0, 0, 1]\n",
    "# 출력: True\n",
    "```"
   ]
  },
  {
   "cell_type": "code",
   "execution_count": null,
   "metadata": {},
   "outputs": [],
   "source": []
  },
  {
   "cell_type": "markdown",
   "metadata": {},
   "source": [
    "### 4. enumerate 함수로 인덱스와 값 출력\n",
    "```python\n",
    "words = [\"a\", \"b\", \"c\"]\n",
    "# 출력: [(0, \"a\"), (1, \"b\"), (2, \"c\")]\n",
    "```"
   ]
  },
  {
   "cell_type": "code",
   "execution_count": null,
   "metadata": {},
   "outputs": [],
   "source": []
  },
  {
   "cell_type": "markdown",
   "metadata": {},
   "source": [
    "### 5. filter 함수로 짝수 필터링\n",
    "```python\n",
    "numbers = [1, 2, 3, 4, 5]\n",
    "# 출력: [2, 4]\n",
    "```"
   ]
  },
  {
   "cell_type": "code",
   "execution_count": null,
   "metadata": {},
   "outputs": [],
   "source": []
  },
  {
   "cell_type": "markdown",
   "metadata": {},
   "source": [
    "### 6. len 함수로 리스트 길이 확인\n",
    "```python\n",
    "numbers = [1, 2, 3]\n",
    "# 출력: 3\n",
    "```"
   ]
  },
  {
   "cell_type": "code",
   "execution_count": null,
   "metadata": {},
   "outputs": [],
   "source": []
  },
  {
   "cell_type": "markdown",
   "metadata": {},
   "source": [
    "### 7. max 함수로 최대값 찾기\n",
    "```python\n",
    "numbers = [10, 20, 30]\n",
    "# 출력: 30\n",
    "```"
   ]
  },
  {
   "cell_type": "code",
   "execution_count": null,
   "metadata": {},
   "outputs": [],
   "source": []
  },
  {
   "cell_type": "markdown",
   "metadata": {},
   "source": [
    "### 8. min 함수로 최소값 찾기\n",
    "```python\n",
    "numbers = [10, 20, 30]\n",
    "# 출력: 10\n",
    "```"
   ]
  },
  {
   "cell_type": "code",
   "execution_count": null,
   "metadata": {},
   "outputs": [],
   "source": []
  },
  {
   "cell_type": "markdown",
   "metadata": {},
   "source": [
    "### 9. map 함수로 리스트 요소 제곱\n",
    "```python\n",
    "numbers = [1, 2, 3]\n",
    "# 출력: [1, 4, 9]\n",
    "```"
   ]
  },
  {
   "cell_type": "code",
   "execution_count": null,
   "metadata": {},
   "outputs": [],
   "source": []
  },
  {
   "cell_type": "markdown",
   "metadata": {},
   "source": [
    "### 10. pow 함수로 제곱 계산 ##\n",
    "```python\n",
    "# 입력: 2, 3\n",
    "# 출력: 8\n",
    "```"
   ]
  },
  {
   "cell_type": "code",
   "execution_count": null,
   "metadata": {},
   "outputs": [],
   "source": []
  },
  {
   "cell_type": "markdown",
   "metadata": {},
   "source": [
    "### 11. range 함수로 숫자 생성\n",
    "```python\n",
    "# 입력: range(5) revarse\n",
    "# 출력: [0, 1, 2, 3, 4]\n",
    "```\n",
    "\n"
   ]
  },
  {
   "cell_type": "code",
   "execution_count": null,
   "metadata": {},
   "outputs": [],
   "source": []
  },
  {
   "cell_type": "markdown",
   "metadata": {},
   "source": [
    "### 12. reversed 함수로 리스트 뒤집기\n",
    "```python\n",
    "numbers = [1, 2, 3]\n",
    "# 출력: [3, 2, 1]\n",
    "```"
   ]
  },
  {
   "cell_type": "code",
   "execution_count": null,
   "metadata": {},
   "outputs": [],
   "source": []
  },
  {
   "cell_type": "markdown",
   "metadata": {},
   "source": [
    "### 13. round 함수로 소수점 반올림##\n",
    "```python\n",
    "# 입력: 3.14159, 2\n",
    "# 출력: 3.14\n",
    "```\n",
    "반올림은 round() 함수, 올림은 ceil() 함수, 내림은 floor() \n",
    "올림과 내림은 math 모듈듈에 내장되어 있음"
   ]
  },
  {
   "cell_type": "code",
   "execution_count": null,
   "metadata": {},
   "outputs": [],
   "source": []
  },
  {
   "cell_type": "markdown",
   "metadata": {},
   "source": [
    "### 14. sorted 함수로 정렬하기\n",
    "```python\n",
    "numbers = [3, 1, 2]\n",
    "# 출력: [1, 2, 3]\n",
    "```"
   ]
  },
  {
   "cell_type": "code",
   "execution_count": null,
   "metadata": {},
   "outputs": [],
   "source": []
  },
  {
   "cell_type": "markdown",
   "metadata": {},
   "source": [
    "### 15. sum 함수로 리스트 합 계산\n",
    "```python\n",
    "numbers = [1, 2, 3]\n",
    "# 출력: 6\n",
    "```"
   ]
  },
  {
   "cell_type": "code",
   "execution_count": null,
   "metadata": {},
   "outputs": [],
   "source": []
  },
  {
   "cell_type": "markdown",
   "metadata": {},
   "source": [
    "### 16. type 함수로 데이터 타입 확인\n",
    "```python\n",
    "value = 42\n",
    "# 출력: <class 'int'>\n",
    "```"
   ]
  },
  {
   "cell_type": "code",
   "execution_count": null,
   "metadata": {},
   "outputs": [],
   "source": []
  },
  {
   "cell_type": "markdown",
   "metadata": {},
   "source": [
    "### 17. zip 함수로 리스트 병합     \n",
    "```python\n",
    "list1 = [1, 2, 3]\n",
    "list2 = [\"a\", \"b\", \"c\"]\n",
    "# 출력: [(1, \"a\"), (2, \"b\"), (3, \"c\")]\n",
    "```"
   ]
  },
  {
   "cell_type": "code",
   "execution_count": null,
   "metadata": {},
   "outputs": [],
   "source": []
  },
  {
   "cell_type": "markdown",
   "metadata": {},
   "source": [
    "### 18. eval 함수로 문자열 표현식 계산\n",
    "```python\n",
    "expression = \"2 + 3 * 4\"\n",
    "# 출력: 14\n",
    "```"
   ]
  },
  {
   "cell_type": "code",
   "execution_count": null,
   "metadata": {},
   "outputs": [],
   "source": []
  },
  {
   "cell_type": "markdown",
   "metadata": {},
   "source": [
    "### 19. chr 함수로 아스키 코드 문자 반환\n",
    "```python\n",
    "# 입력: 97\n",
    "# 출력: 'a'\n",
    "```"
   ]
  },
  {
   "cell_type": "code",
   "execution_count": null,
   "metadata": {},
   "outputs": [],
   "source": []
  },
  {
   "cell_type": "markdown",
   "metadata": {},
   "source": [
    "### 20. ord 함수로 문자 아스키 코드 반환\n",
    "```python\n",
    "# 입력: 'a'\n",
    "# 출력: 97\n",
    "```"
   ]
  },
  {
   "cell_type": "code",
   "execution_count": null,
   "metadata": {},
   "outputs": [],
   "source": []
  },
  {
   "cell_type": "markdown",
   "metadata": {},
   "source": [
    "## 정규 표현식 문제"
   ]
  },
  {
   "cell_type": "markdown",
   "metadata": {},
   "source": [
    "### 1. 문자열에서 모든 이메일 주소 찾기\n",
    "```python\n",
    "text = \"Contact us at info@example.com or support@domain.org\"\n",
    "# 출력: ['info@example.com', 'support@domain.org']\n",
    "```"
   ]
  },
  {
   "cell_type": "code",
   "execution_count": null,
   "metadata": {},
   "outputs": [],
   "source": []
  },
  {
   "cell_type": "markdown",
   "metadata": {},
   "source": [
    "### 2. 특정 패턴으로 시작하는 단어 추출\n",
    "```python\n",
    "text = \"apple banana cherry date\"\n",
    "pattern = r\"^a\"\n",
    "# 출력: ['apple']\n",
    "```"
   ]
  },
  {
   "cell_type": "code",
   "execution_count": null,
   "metadata": {},
   "outputs": [],
   "source": []
  },
  {
   "cell_type": "markdown",
   "metadata": {},
   "source": [
    "### 3. 전화번호 형식 검사\n",
    "```python\n",
    "phone = \"123-456-7890\"\n",
    "# 출력: True (형식이 올바른 경우)\n",
    "```"
   ]
  },
  {
   "cell_type": "code",
   "execution_count": null,
   "metadata": {},
   "outputs": [],
   "source": []
  },
  {
   "cell_type": "markdown",
   "metadata": {},
   "source": [
    "### 4. 문자열에서 숫자만 추출\n",
    "```python\n",
    "text = \"Order 123 items for $45.67\"\n",
    "# 출력: ['123', '45', '67']\n",
    "```"
   ]
  },
  {
   "cell_type": "code",
   "execution_count": null,
   "metadata": {},
   "outputs": [],
   "source": []
  },
  {
   "cell_type": "markdown",
   "metadata": {},
   "source": [
    "### 5. 공백으로 구분된 단어의 개수 세기\n",
    "```python\n",
    "text = \"This is a test sentence.\"\n",
    "# 출력: 5\n",
    "```\n"
   ]
  },
  {
   "cell_type": "code",
   "execution_count": null,
   "metadata": {},
   "outputs": [],
   "source": []
  },
  {
   "cell_type": "markdown",
   "metadata": {},
   "source": [
    "### 6. HTML 태그 제거하기\n",
    "```python\n",
    "html = \"<p>This is a paragraph.</p>\"\n",
    "# 출력: 'This is a paragraph.'\n",
    "```"
   ]
  },
  {
   "cell_type": "code",
   "execution_count": null,
   "metadata": {},
   "outputs": [],
   "source": []
  },
  {
   "cell_type": "markdown",
   "metadata": {},
   "source": [
    "### 7. 특정 단어 포함 여부 확인\n",
    "```python\n",
    "text = \"Python is fun\"\n",
    "word = \"fun\"\n",
    "# 출력: True\n",
    "```"
   ]
  },
  {
   "cell_type": "code",
   "execution_count": null,
   "metadata": {},
   "outputs": [],
   "source": []
  },
  {
   "cell_type": "markdown",
   "metadata": {},
   "source": [
    "### 8. 날짜 형식 변환\n",
    "```python\n",
    "date = \"2025-01-27\"\n",
    "# 출력: '27-01-2025'\n",
    "```"
   ]
  },
  {
   "cell_type": "code",
   "execution_count": null,
   "metadata": {},
   "outputs": [],
   "source": []
  },
  {
   "cell_type": "markdown",
   "metadata": {},
   "source": [
    "### 9. 소문자와 대문자 교체\n",
    "```python\n",
    "text = \"Hello World\"\n",
    "# 출력: 'hELLO wORLD'\n",
    "```"
   ]
  },
  {
   "cell_type": "code",
   "execution_count": null,
   "metadata": {},
   "outputs": [],
   "source": []
  },
  {
   "cell_type": "markdown",
   "metadata": {},
   "source": [
    "### 10. IP 주소 형식 검사\n",
    "```python\n",
    "ip = \"192.168.1.1\"\n",
    "# 출력: True (형식이 올바른 경우)\n",
    "```"
   ]
  },
  {
   "cell_type": "code",
   "execution_count": null,
   "metadata": {},
   "outputs": [],
   "source": []
  },
  {
   "cell_type": "markdown",
   "metadata": {},
   "source": [
    "### 11. 문자열에서 모든 URL 추출\n",
    "```python\n",
    "text = \"Visit https://example.com or http://test.org for info.\"\n",
    "# 출력: ['https://example.com', 'http://test.org']\n",
    "```"
   ]
  },
  {
   "cell_type": "code",
   "execution_count": null,
   "metadata": {},
   "outputs": [],
   "source": []
  },
  {
   "cell_type": "markdown",
   "metadata": {},
   "source": [
    "### 12. 특정 패턴의 단어 치환\n",
    "```python\n",
    "text = \"I love cats and dogs\"\n",
    "pattern = r\"cats\"\n",
    "replacement = \"pets\"\n",
    "# 출력: 'I love pets and dogs'\n",
    "```"
   ]
  },
  {
   "cell_type": "code",
   "execution_count": null,
   "metadata": {},
   "outputs": [],
   "source": []
  },
  {
   "cell_type": "markdown",
   "metadata": {},
   "source": [
    "### 13. 문자열에서 연속된 공백 제거\n",
    "```python\n",
    "text = \"This   is   a  test.\"\n",
    "# 출력: 'This is a test.'\n",
    "```"
   ]
  },
  {
   "cell_type": "code",
   "execution_count": null,
   "metadata": {},
   "outputs": [],
   "source": []
  },
  {
   "cell_type": "markdown",
   "metadata": {},
   "source": [
    "### 14. 특정 문자열이 파일 경로인지 검사\n",
    "```python\n",
    "path = \"/user/home/test.txt\"\n",
    "# 출력: True (파일 경로가 올바른 경우)\n",
    "```"
   ]
  },
  {
   "cell_type": "code",
   "execution_count": null,
   "metadata": {},
   "outputs": [],
   "source": []
  },
  {
   "cell_type": "markdown",
   "metadata": {},
   "source": [
    "### 15. 영어 단어만 추출하기\n",
    "```python\n",
    "text = \"123abc!@#def456\"\n",
    "# 출력: ['abc', 'def']\n",
    "```"
   ]
  },
  {
   "cell_type": "code",
   "execution_count": null,
   "metadata": {},
   "outputs": [],
   "source": []
  },
  {
   "cell_type": "markdown",
   "metadata": {},
   "source": [
    "### 16. 특정 접미사로 끝나는 단어 찾기\n",
    "```python\n",
    "text = \"running swimming jumping\"\n",
    "pattern = r\"ing\"\n",
    "# 출력: ['running', 'swimming', 'jumping']\n",
    "```"
   ]
  },
  {
   "cell_type": "code",
   "execution_count": null,
   "metadata": {},
   "outputs": [],
   "source": []
  },
  {
   "cell_type": "markdown",
   "metadata": {},
   "source": [
    "### 17. 문자열에서 중복된 단어 제거\n",
    "```python\n",
    "text = \"this this is is a test test\"\n",
    "# 출력: 'this is a test'\n",
    "```"
   ]
  },
  {
   "cell_type": "code",
   "execution_count": null,
   "metadata": {},
   "outputs": [],
   "source": []
  },
  {
   "cell_type": "markdown",
   "metadata": {},
   "source": [
    "### 18. 문자열에서 특수 문자 제거\n",
    "```python\n",
    "text = \"Hello!@#$%^&*()\"\n",
    "# 출력: 'Hello'\n",
    "```"
   ]
  },
  {
   "cell_type": "code",
   "execution_count": null,
   "metadata": {},
   "outputs": [],
   "source": []
  },
  {
   "cell_type": "markdown",
   "metadata": {},
   "source": [
    "### 19. 특정 길이의 단어만 추출\n",
    "```python\n",
    "text = \"cat bat mat\"\n",
    "length = 3\n",
    "# 출력: ['cat', 'bat', 'mat']\n",
    "```"
   ]
  },
  {
   "cell_type": "code",
   "execution_count": null,
   "metadata": {},
   "outputs": [],
   "source": []
  },
  {
   "cell_type": "markdown",
   "metadata": {},
   "source": [
    "### 20. 파일 확장자 추출\n",
    "```python\n",
    "filename = \"document.pdf\"\n",
    "# 출력: 'pdf'\n",
    "```"
   ]
  },
  {
   "cell_type": "code",
   "execution_count": null,
   "metadata": {},
   "outputs": [],
   "source": []
  }
 ],
 "metadata": {
  "kernelspec": {
   "display_name": "Python 3",
   "language": "python",
   "name": "python3"
  },
  "language_info": {
   "codemirror_mode": {
    "name": "ipython",
    "version": 3
   },
   "file_extension": ".py",
   "mimetype": "text/x-python",
   "name": "python",
   "nbconvert_exporter": "python",
   "pygments_lexer": "ipython3",
   "version": "3.12.8"
  }
 },
 "nbformat": 4,
 "nbformat_minor": 2
}
