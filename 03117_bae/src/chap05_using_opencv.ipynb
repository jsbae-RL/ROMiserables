{
 "cells": [
  {
   "cell_type": "markdown",
   "metadata": {},
   "source": [
    "# 5. 이미지내 선 및 도형 그리기 및 글자 입력(OpenCV 심화)\n",
    "- 본 chapter에서는 웹캡 영상이 아닌, 이미지를 가지고 변환을 하도록 한다.\n",
    "- 사용 이미지는 /img/lena.jpg를 사용한다.\n",
    "- 딥러닝 및 slam에서 많이 활용할만한 기법들만 나열한다."
   ]
  },
  {
   "cell_type": "markdown",
   "metadata": {},
   "source": [
    "### 1) 이미지 자르기(Slice)\n",
    "- 이미지 자르기는 딥러닝에서 간혹 사용하는 기법이다.\n",
    "- 특정 영역을 잘라내며, 특정 영역을 \"관심 영역(Region Of Interest, ROI)\"라 한다.\n",
    "    - 딥러닝에서는 사람이 탐지된 bounding box가 ROI된다.\n"
   ]
  },
  {
   "cell_type": "code",
   "execution_count": 1,
   "metadata": {},
   "outputs": [],
   "source": [
    "# 메인 코드 - 1\n",
    "import cv2\n",
    "\n",
    "fname = './img/lena.jpg'\n",
    "\n",
    "src = cv2.imread(fname, cv2.IMREAD_COLOR)\n",
    "dst = src[100:600, 200:700].copy()\n",
    "\n",
    "cv2.imshow(\"src\", src)\n",
    "cv2.imshow(\"dst\", dst)\n",
    "cv2.waitKey()\n",
    "cv2.destroyAllWindows()\n"
   ]
  },
  {
   "cell_type": "markdown",
   "metadata": {},
   "source": [
    "```dst = src[100:600, 200:700].copy()```\n",
    "- OpenCV의 이미지는 numpy 배열 형식과 동일\n",
    "- src[높이(행), 너비(열)]로 **관심 영역을 설정**\n",
    "- 이미지를 자르거나 할때, dst = src의 형태로 사용할 경우, **얖은 복사**가 되어 원본도 영향\n",
    "- ```*.copy()```를 이용해 **깊은 복사**를 진행"
   ]
  },
  {
   "cell_type": "code",
   "execution_count": 2,
   "metadata": {},
   "outputs": [],
   "source": [
    "# 메인 코드 - 2\n",
    "import cv2\n",
    "\n",
    "src = cv2.imread(fname, cv2.IMREAD_COLOR)\n",
    "\n",
    "dst = src.copy() \n",
    "roi = src[100:600, 200:700]\n",
    "dst[0:125, 0:200] = roi\n",
    "\n",
    "cv2.imshow(\"src\", src)\n",
    "cv2.imshow(\"dst\", dst)\n",
    "cv2.waitKey()\n",
    "cv2.destroyAllWindows()"
   ]
  },
  {
   "cell_type": "markdown",
   "metadata": {},
   "source": [
    "### 2) 색상 공간 변환(Convert Color)\n",
    "- 색상 공간 변환은 본래 색상 공산에서 다른 색상 공산으로 변화할때 사용\n",
    "- 데이터 타입은 같게 유지하고 채널을 변환\n",
    "    - 입력된 이미지는 8비트, 16비트, 32 비트의 정밀도로 갖는 배열을 사용\n",
    "    - 출력된 이미지는 입력된 이미지 크기와 정밀도가 동일한 배열이 된다.\n",
    "- 채널의 수가 감소하게 되며 이미지 내부의 데이터는 설정한 색상 공간과 일치하는 값으로 변환\n",
    "- 데이터 값이 변경되거나 채널 순서가 변경될 수 있다."
   ]
  },
  {
   "cell_type": "code",
   "execution_count": 3,
   "metadata": {},
   "outputs": [
    {
     "name": "stdout",
     "output_type": "stream",
     "text": [
      "(225, 400, 3)\n",
      "(225, 400)\n"
     ]
    }
   ],
   "source": [
    "import cv2\n",
    "\n",
    "src = cv2.imread(fname, cv2.IMREAD_COLOR)\n",
    "dst = cv2.cvtColor(src, cv2.COLOR_BGR2GRAY)\n",
    "print(src.shape)\n",
    "print(dst.shape)\n",
    "\n",
    "cv2.imshow(\"src\", src)\n",
    "cv2.imshow(\"dst\", dst)\n",
    "cv2.waitKey()\n",
    "cv2.destroyAllWindows()"
   ]
  },
  {
   "cell_type": "markdown",
   "metadata": {},
   "source": [
    "```dst = cv2.cvtColor(src, cv2.COLOR_BGR2GRAY)```\n",
    "- **색상 공간 변환 함수**(```cv2.cvtcolor```)로 이미지의 색상 공간을 변경\n",
    "- ```dst = cv2.cvtColor(src, code, dstCn)```\n",
    "    - 입력 이미지(src), 색상 변환 코드(code), 출력 채널(dstCn)으로 출력 이미지 (dst)를 생성\n",
    "- cv2.COLOR_BGR2GRAY는 {원본 이미지 색상 공간}2(to){결과 이미지 색상 공간}\n",
    "> OpenCV는 색 표현의 숫자가 RGB가닌 BGR"
   ]
  },
  {
   "cell_type": "markdown",
   "metadata": {},
   "source": [
    "### 3) 이진화(Binary)\n",
    "- 이진화 : 어느 지점을 기준으로 값이 높거나 낮은 픽셀의 값을 대상으로 특정 영산을 수행할 때 사용한다.\n",
    "- 일반적으로 값이 높거나 낮은 픽셀을 검은색 또는 흰색 의 값으로 변경한다.\n",
    "- 기준값에 따라 이분법적으로 구분해 픽셀의 **참 또는 거짓**으로 나눈 연산이라 할 수 있다"
   ]
  },
  {
   "cell_type": "code",
   "execution_count": 4,
   "metadata": {},
   "outputs": [],
   "source": [
    "import cv2\n",
    "\n",
    "src = cv2.imread(fname, cv2.IMREAD_COLOR)\n",
    "\n",
    "gray = cv2.cvtColor(src, cv2.COLOR_BGR2GRAY)\n",
    "ret, dst = cv2.threshold(gray, 100, 255, cv2.THRESH_BINARY)\n",
    "\n",
    "cv2.imshow(\"dst\", dst)\n",
    "cv2.waitKey()\n",
    "cv2.destroyAllWindows()"
   ]
  },
  {
   "cell_type": "markdown",
   "metadata": {},
   "source": [
    "- 이진화 함수(cv2.threshold)로 grayscale 이미지에 이진화를 적용할 수 있다.\n",
    "- ```retval, dst = cv2.threshold(src, thresh, maxval, type)```\n",
    "    - 입력 이미지(src)를 임곗값 형식(type)에 따라 임곗값(thresh)과 최댓값(maxval)을 활용하여 설정 임곗값(retval)과 결과 이미지(dst)를 반환\n",
    "    - 입력 이미지는 단일 채널 이미지(grayscale)을 입력해 사용\n",
    "    - 임곗값 형식은 임곗값을 초과한 값은 최댓값으로 변경, 이하는 0으로 바꾸는 연산을 적용"
   ]
  },
  {
   "cell_type": "markdown",
   "metadata": {},
   "source": [
    "### 4) 흐림 효과(Blur)\n",
    "- Blur는 블러링(Blurring)이라하며, 노이즈를 줄이거나 외부 영향을 최소화 하는데 사용\n",
    "- 영상이나 이미지를 번지게 하며, 해당 픽셀의 주변 값들과 비교/계산하여 픽셀들의 색상을 재조정한다.\n",
    "- 단순히 이미지를 흐리게 하는 것 x, 노이즈를 제거해서 연산시 계산을 빠르고 정확하게 수행하는 데 도움을 준다."
   ]
  },
  {
   "cell_type": "code",
   "execution_count": 5,
   "metadata": {},
   "outputs": [],
   "source": [
    "import cv2\n",
    "\n",
    "src = cv2.imread(fname, cv2.IMREAD_COLOR)\n",
    "dst = cv2.blur(src, (9, 9), anchor=(-1, -1), borderType=cv2.BORDER_DEFAULT)\n",
    "\n",
    "cv2.imshow(\"dst\", dst)\n",
    "cv2.waitKey()\n",
    "cv2.destroyAllWindows()"
   ]
  },
  {
   "cell_type": "markdown",
   "metadata": {},
   "source": [
    "- ```dst = cv2.blur(src, ksize, anchor, borderType)```\n",
    "    - src = 입력 이미지\n",
    "    - ksize = 커널 크기(kernel size)\n",
    "    - anchor = 커널을 토애 컨벌루션된 값을 할당하는 지점\n",
    "    - broderType = 테두리 외삽법(border extrapolation) = 이미지 가장자리부분의 처리 방식"
   ]
  },
  {
   "cell_type": "markdown",
   "metadata": {},
   "source": [
    "### 5) 가장자리 검출(Edge detection)\n",
    "- 가장자리(egde는 가장 바깥 부분의 둘레를 의미)\n",
    "- 이미지 상의 가장자리는 전경(Foreground)과 배경(Background)이 구분되는 지점\n",
    "    - **밝기가 큰 폭으로 변하는 지점**"
   ]
  },
  {
   "cell_type": "code",
   "execution_count": 6,
   "metadata": {},
   "outputs": [],
   "source": [
    "src = cv2.imread(fname, cv2.IMREAD_GRAYSCALE)\n",
    "\n",
    "dst = cv2.Canny(src, 50, 150)\n",
    "cv2.imshow(\"dst\", dst)\n",
    "cv2.waitKey()\n",
    "cv2.destroyAllWindows()"
   ]
  },
  {
   "cell_type": "markdown",
   "metadata": {},
   "source": [
    "### 6) 도형 그리기(Drawing)\n",
    "- 도형 그리기(Drawing)는 영상이나 이미지 위에 그래픽을 그려 검출 결과를 시각적으로 표시한다.\n",
    "- 원과 타원그리기는 아래 그림을 참고한다.\n",
    "    - 원그리기   \n",
    "    <img src = \"./img/circle_info.png\" width = \"40%\" height = \"40%\"/>\n",
    "    ---------\n",
    "    - 타원그리기   \n",
    "    <img src = \"./img/ellipse_info.png\" width = \"40%\" height = \"40%\"/>"
   ]
  },
  {
   "cell_type": "code",
   "execution_count": 1,
   "metadata": {},
   "outputs": [],
   "source": [
    "import cv2\n",
    "import numpy as np\n",
    "\n",
    "src = np.zeros((768, 1366, 3), dtype=np.uint8)\n",
    "\n",
    "# 선그리기 : cv2.line(그림 및 frame, 시작 좌표(x, y), 끝좌표(x,y), 색, 선스타일)\n",
    "src = cv2.line(src, (100, 100), (1200, 100), (0, 0, 255), 3, cv2.LINE_AA)\n",
    "src = cv2.circle(src, (300, 300), 50, (0, 255, 0), cv2.FILLED, cv2.LINE_4)\n",
    "\n",
    "# 사각형 : cv2.rectangle(그림 및 frame, 좌상단 좌표(x, y), 우하단 좌표(x,y), 색, 선두께(-1 = 가득 채우기), 선스타일)\n",
    "src = cv2.rectangle(src, (500, 200), (1000, 400), (255, 0, 0), 5, cv2.LINE_8)\n",
    "src = cv2.ellipse(src, (1200, 300), (100, 50), 0, 90, 180, (255, 255, 0), 2)\n",
    "\n",
    "pts1 = np.array([[100, 500], [300, 500], [200, 600]])\n",
    "pts2 = np.array([[600, 500], [800, 500], [700, 600]])\n",
    "\n",
    "# 다각형 그릴때 사용하는 여러 선 만들기 : cv2.polylines(그림 및 frame, 좌표리스트, 마지막점과 첫점 연결 여부, 선색, 선 굵기)\n",
    "# 3번째 인자에서 True에서 False로 바꾸면 마지막점과 첫점을 연결하지 않는다.\n",
    "src = cv2.polylines(src, [pts1], True, (0, 255, 255), 2)\n",
    "# 채워진 다각형 그리기 : cv2.fillPoly(그림 및 frame, 좌표 리스트, 색, 선종류)\n",
    "src = cv2.fillPoly(src, [pts2], (255, 0, 255), cv2.LINE_AA)\n",
    "# 글자쓰기 : cv2.putText(그림 및 frame, 입력할 글자, 좌하단 좌표, 글자 폰트, 크기, 색상, 선두께)\n",
    "src = cv2.putText(src, \"ROMiserable\", (900, 600), cv2.FONT_HERSHEY_COMPLEX, 2, (255, 255, 255), 3)\n",
    "\n",
    "cv2.imshow(\"src\", src)\n",
    "cv2.waitKey()\n",
    "cv2.destroyAllWindows()"
   ]
  },
  {
   "cell_type": "code",
   "execution_count": null,
   "metadata": {},
   "outputs": [],
   "source": []
  }
 ],
 "metadata": {
  "kernelspec": {
   "display_name": "CCTV_PJT",
   "language": "python",
   "name": "python3"
  },
  "language_info": {
   "codemirror_mode": {
    "name": "ipython",
    "version": 3
   },
   "file_extension": ".py",
   "mimetype": "text/x-python",
   "name": "python",
   "nbconvert_exporter": "python",
   "pygments_lexer": "ipython3",
   "version": "3.12.8"
  }
 },
 "nbformat": 4,
 "nbformat_minor": 2
}
